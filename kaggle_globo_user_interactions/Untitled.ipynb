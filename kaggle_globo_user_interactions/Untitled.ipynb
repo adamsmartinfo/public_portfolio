{
 "cells": [
  {
   "cell_type": "code",
   "execution_count": 1,
   "id": "94b93ec7-7158-4150-90ff-720653f5e9d7",
   "metadata": {
    "tags": []
   },
   "outputs": [],
   "source": [
    "import pandas as pd\n",
    "import numpy as np"
   ]
  },
  {
   "cell_type": "code",
   "execution_count": 4,
   "id": "dc46636e-9dd6-458f-a188-3bcf465ad515",
   "metadata": {
    "tags": []
   },
   "outputs": [
    {
     "data": {
      "text/plain": [
       "[(0.986, 4.5], (0.986, 4.5], (0.986, 4.5], (0.986, 4.5], (4.5, 8.0], ..., (8.0, 11.5], (8.0, 11.5], (11.5, 15.0], (11.5, 15.0], (11.5, 15.0]]\n",
       "Length: 14\n",
       "Categories (4, interval[float64, right]): [(0.986, 4.5] < (4.5, 8.0] < (8.0, 11.5] < (11.5, 15.0]]"
      ]
     },
     "execution_count": 4,
     "metadata": {},
     "output_type": "execute_result"
    }
   ],
   "source": [
    "list = [1,2,3,4,5,6,7,8,9,10,11,12,14,15,]\n",
    "range = pd.cut(list,bins=4)\n",
    "range"
   ]
  },
  {
   "cell_type": "code",
   "execution_count": 7,
   "id": "dc37b84b-199f-461c-93a5-a7e7b99b64fe",
   "metadata": {
    "tags": []
   },
   "outputs": [
    {
     "data": {
      "text/plain": [
       "14"
      ]
     },
     "execution_count": 7,
     "metadata": {},
     "output_type": "execute_result"
    }
   ],
   "source": []
  },
  {
   "cell_type": "code",
   "execution_count": null,
   "id": "603bb272-a7d2-4575-a8cc-0a2b2c387542",
   "metadata": {},
   "outputs": [],
   "source": []
  },
  {
   "cell_type": "code",
   "execution_count": null,
   "id": "9d6e3e25-ad9a-455b-92c5-46ad4826b071",
   "metadata": {},
   "outputs": [],
   "source": []
  },
  {
   "cell_type": "code",
   "execution_count": null,
   "id": "59052c3a-fe6a-4842-b88c-b1f679f669d8",
   "metadata": {},
   "outputs": [],
   "source": []
  },
  {
   "cell_type": "code",
   "execution_count": null,
   "id": "a80b4dca-2b92-4dab-a30d-d008641e5006",
   "metadata": {},
   "outputs": [],
   "source": []
  },
  {
   "cell_type": "code",
   "execution_count": null,
   "id": "bbd54da8-7ed5-49f7-82f6-55e1db189692",
   "metadata": {},
   "outputs": [],
   "source": []
  },
  {
   "cell_type": "code",
   "execution_count": null,
   "id": "633afebd-d51d-4d35-9ff8-c84b9810bbd7",
   "metadata": {},
   "outputs": [],
   "source": []
  }
 ],
 "metadata": {
  "kernelspec": {
   "display_name": "Python 3 (ipykernel)",
   "language": "python",
   "name": "python3"
  },
  "language_info": {
   "codemirror_mode": {
    "name": "ipython",
    "version": 3
   },
   "file_extension": ".py",
   "mimetype": "text/x-python",
   "name": "python",
   "nbconvert_exporter": "python",
   "pygments_lexer": "ipython3",
   "version": "3.11.5"
  }
 },
 "nbformat": 4,
 "nbformat_minor": 5
}

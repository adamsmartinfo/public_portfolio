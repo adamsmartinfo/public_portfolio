{
 "cells": [
  {
   "cell_type": "code",
   "execution_count": 9,
   "id": "f34514b2-e29d-4a59-9f8a-c81f0036bca7",
   "metadata": {
    "tags": []
   },
   "outputs": [],
   "source": [
    "import glob\n",
    "import os\n",
    "import pandas as pd\n",
    "import seaborn as sns\n",
    "import numpy as np\n",
    "import datetime as dt\n",
    "import matplotlib.pyplot as plt"
   ]
  },
  {
   "cell_type": "markdown",
   "id": "9ec2a39a-a3a0-4fe4-997b-3beb27b5b7c5",
   "metadata": {},
   "source": [
    "### Articles DataFrame EDA"
   ]
  },
  {
   "cell_type": "code",
   "execution_count": 8,
   "id": "ac8c6427-a545-42bb-90fb-3ac61a49f9e8",
   "metadata": {
    "tags": []
   },
   "outputs": [
    {
     "name": "stdout",
     "output_type": "stream",
     "text": [
      "<class 'pandas.core.frame.DataFrame'>\n",
      "RangeIndex: 364047 entries, 0 to 364046\n",
      "Data columns (total 5 columns):\n",
      " #   Column         Non-Null Count   Dtype\n",
      "---  ------         --------------   -----\n",
      " 0   article_id     364047 non-null  int64\n",
      " 1   category_id    364047 non-null  int64\n",
      " 2   created_at_ts  364047 non-null  int64\n",
      " 3   publisher_id   364047 non-null  int64\n",
      " 4   words_count    364047 non-null  int64\n",
      "dtypes: int64(5)\n",
      "memory usage: 13.9 MB\n"
     ]
    }
   ],
   "source": [
    "# read articles csv file into a dataframe\n",
    "articles_df = pd.read_csv('/Users/adam/GitHub/public_portfolio/kaggle_globo_user_interactions/articles_metadata.csv')\n",
    "articles_df.info()"
   ]
  },
  {
   "cell_type": "code",
   "execution_count": 13,
   "id": "48cfc937-8162-439b-803d-b2f2f25973f3",
   "metadata": {
    "tags": []
   },
   "outputs": [
    {
     "data": {
      "text/plain": [
       "article_id       0\n",
       "category_id      0\n",
       "created_at_ts    0\n",
       "publisher_id     0\n",
       "words_count      0\n",
       "dtype: int64"
      ]
     },
     "execution_count": 13,
     "metadata": {},
     "output_type": "execute_result"
    }
   ],
   "source": [
    "# Look for missing values\n",
    "articles_df.isnull().sum()"
   ]
  },
  {
   "cell_type": "code",
   "execution_count": 15,
   "id": "a0cb987f-a1c4-4cde-a56b-a7c58d77c87b",
   "metadata": {
    "tags": []
   },
   "outputs": [
    {
     "data": {
      "text/plain": [
       "0         False\n",
       "1         False\n",
       "2         False\n",
       "3         False\n",
       "4         False\n",
       "          ...  \n",
       "364042    False\n",
       "364043    False\n",
       "364044    False\n",
       "364045    False\n",
       "364046    False\n",
       "Length: 364047, dtype: bool"
      ]
     },
     "execution_count": 15,
     "metadata": {},
     "output_type": "execute_result"
    }
   ],
   "source": [
    "# Check for duplicate rows\n",
    "articles_df.duplicated()"
   ]
  },
  {
   "cell_type": "code",
   "execution_count": 18,
   "id": "a3351a82-184b-4579-9c9e-4c4a9c134046",
   "metadata": {
    "tags": []
   },
   "outputs": [
    {
     "data": {
      "text/plain": [
       "article_id\n",
       "0         1\n",
       "242727    1\n",
       "242703    1\n",
       "242702    1\n",
       "242701    1\n",
       "         ..\n",
       "121347    1\n",
       "121346    1\n",
       "121345    1\n",
       "121344    1\n",
       "364046    1\n",
       "Name: count, Length: 364047, dtype: int64"
      ]
     },
     "execution_count": 18,
     "metadata": {},
     "output_type": "execute_result"
    }
   ],
   "source": [
    "## Check how many rows each article id has\n",
    "articles_df['article_id'].value_counts()"
   ]
  },
  {
   "cell_type": "markdown",
   "id": "ff1e217d-d705-4edd-a369-50dd3fb7a953",
   "metadata": {},
   "source": [
    "### Clicks DataFrame EDA"
   ]
  },
  {
   "cell_type": "code",
   "execution_count": 10,
   "id": "8ceab559-cf7a-4ce7-8392-6ad2b1da478f",
   "metadata": {
    "tags": []
   },
   "outputs": [],
   "source": [
    "# read the clicks data into a dataframe\n",
    "\n",
    "path = r'/Users/adam/GitHub/public_portfolio/kaggle_globo_user_interactions/clicks_hour' # use your path\n",
    "all_files = glob.glob(os.path.join(path, \"*.csv\"))\n",
    "\n",
    "clicks_df = pd.concat((pd.read_csv(f) for f in all_files), ignore_index=True)"
   ]
  },
  {
   "cell_type": "code",
   "execution_count": 11,
   "id": "d33b680d-e644-4081-a512-f5c7a9fa1d93",
   "metadata": {
    "tags": []
   },
   "outputs": [
    {
     "data": {
      "text/html": [
       "<div>\n",
       "<style scoped>\n",
       "    .dataframe tbody tr th:only-of-type {\n",
       "        vertical-align: middle;\n",
       "    }\n",
       "\n",
       "    .dataframe tbody tr th {\n",
       "        vertical-align: top;\n",
       "    }\n",
       "\n",
       "    .dataframe thead th {\n",
       "        text-align: right;\n",
       "    }\n",
       "</style>\n",
       "<table border=\"1\" class=\"dataframe\">\n",
       "  <thead>\n",
       "    <tr style=\"text-align: right;\">\n",
       "      <th></th>\n",
       "      <th>user_id</th>\n",
       "      <th>session_id</th>\n",
       "      <th>session_start</th>\n",
       "      <th>session_size</th>\n",
       "      <th>click_article_id</th>\n",
       "      <th>click_timestamp</th>\n",
       "      <th>click_environment</th>\n",
       "      <th>click_deviceGroup</th>\n",
       "      <th>click_os</th>\n",
       "      <th>click_country</th>\n",
       "      <th>click_region</th>\n",
       "      <th>click_referrer_type</th>\n",
       "    </tr>\n",
       "  </thead>\n",
       "  <tbody>\n",
       "    <tr>\n",
       "      <th>0</th>\n",
       "      <td>93863</td>\n",
       "      <td>1507865792177843</td>\n",
       "      <td>1507865792000</td>\n",
       "      <td>2</td>\n",
       "      <td>96210</td>\n",
       "      <td>1507865832925</td>\n",
       "      <td>4</td>\n",
       "      <td>3</td>\n",
       "      <td>2</td>\n",
       "      <td>1</td>\n",
       "      <td>21</td>\n",
       "      <td>2</td>\n",
       "    </tr>\n",
       "    <tr>\n",
       "      <th>1</th>\n",
       "      <td>93863</td>\n",
       "      <td>1507865792177843</td>\n",
       "      <td>1507865792000</td>\n",
       "      <td>2</td>\n",
       "      <td>158094</td>\n",
       "      <td>1507865862925</td>\n",
       "      <td>4</td>\n",
       "      <td>3</td>\n",
       "      <td>2</td>\n",
       "      <td>1</td>\n",
       "      <td>21</td>\n",
       "      <td>2</td>\n",
       "    </tr>\n",
       "    <tr>\n",
       "      <th>2</th>\n",
       "      <td>294036</td>\n",
       "      <td>1507865795185844</td>\n",
       "      <td>1507865795000</td>\n",
       "      <td>2</td>\n",
       "      <td>20691</td>\n",
       "      <td>1507865819095</td>\n",
       "      <td>4</td>\n",
       "      <td>3</td>\n",
       "      <td>20</td>\n",
       "      <td>1</td>\n",
       "      <td>9</td>\n",
       "      <td>2</td>\n",
       "    </tr>\n",
       "    <tr>\n",
       "      <th>3</th>\n",
       "      <td>294036</td>\n",
       "      <td>1507865795185844</td>\n",
       "      <td>1507865795000</td>\n",
       "      <td>2</td>\n",
       "      <td>96210</td>\n",
       "      <td>1507865849095</td>\n",
       "      <td>4</td>\n",
       "      <td>3</td>\n",
       "      <td>20</td>\n",
       "      <td>1</td>\n",
       "      <td>9</td>\n",
       "      <td>2</td>\n",
       "    </tr>\n",
       "    <tr>\n",
       "      <th>4</th>\n",
       "      <td>77136</td>\n",
       "      <td>1507865796257845</td>\n",
       "      <td>1507865796000</td>\n",
       "      <td>2</td>\n",
       "      <td>336245</td>\n",
       "      <td>1507866133178</td>\n",
       "      <td>4</td>\n",
       "      <td>3</td>\n",
       "      <td>2</td>\n",
       "      <td>1</td>\n",
       "      <td>25</td>\n",
       "      <td>2</td>\n",
       "    </tr>\n",
       "  </tbody>\n",
       "</table>\n",
       "</div>"
      ],
      "text/plain": [
       "  user_id        session_id  session_start session_size click_article_id  \\\n",
       "0   93863  1507865792177843  1507865792000            2            96210   \n",
       "1   93863  1507865792177843  1507865792000            2           158094   \n",
       "2  294036  1507865795185844  1507865795000            2            20691   \n",
       "3  294036  1507865795185844  1507865795000            2            96210   \n",
       "4   77136  1507865796257845  1507865796000            2           336245   \n",
       "\n",
       "  click_timestamp click_environment click_deviceGroup click_os click_country  \\\n",
       "0   1507865832925                 4                 3        2             1   \n",
       "1   1507865862925                 4                 3        2             1   \n",
       "2   1507865819095                 4                 3       20             1   \n",
       "3   1507865849095                 4                 3       20             1   \n",
       "4   1507866133178                 4                 3        2             1   \n",
       "\n",
       "  click_region click_referrer_type  \n",
       "0           21                   2  \n",
       "1           21                   2  \n",
       "2            9                   2  \n",
       "3            9                   2  \n",
       "4           25                   2  "
      ]
     },
     "execution_count": 11,
     "metadata": {},
     "output_type": "execute_result"
    }
   ],
   "source": [
    "clicks_df.head()"
   ]
  },
  {
   "cell_type": "code",
   "execution_count": 12,
   "id": "81b5e260-cd37-4ecc-8f7b-c47b423b49a1",
   "metadata": {
    "tags": []
   },
   "outputs": [
    {
     "name": "stdout",
     "output_type": "stream",
     "text": [
      "<class 'pandas.core.frame.DataFrame'>\n",
      "RangeIndex: 2988181 entries, 0 to 2988180\n",
      "Data columns (total 12 columns):\n",
      " #   Column               Dtype \n",
      "---  ------               ----- \n",
      " 0   user_id              object\n",
      " 1   session_id           object\n",
      " 2   session_start        object\n",
      " 3   session_size         object\n",
      " 4   click_article_id     object\n",
      " 5   click_timestamp      object\n",
      " 6   click_environment    object\n",
      " 7   click_deviceGroup    object\n",
      " 8   click_os             object\n",
      " 9   click_country        object\n",
      " 10  click_region         object\n",
      " 11  click_referrer_type  object\n",
      "dtypes: object(12)\n",
      "memory usage: 273.6+ MB\n"
     ]
    }
   ],
   "source": [
    "clicks_df.info()"
   ]
  },
  {
   "cell_type": "code",
   "execution_count": 14,
   "id": "6c99f58b-5a6b-4a39-b43c-6e06a4286464",
   "metadata": {
    "tags": []
   },
   "outputs": [
    {
     "data": {
      "text/plain": [
       "user_id                0\n",
       "session_id             0\n",
       "session_start          0\n",
       "session_size           0\n",
       "click_article_id       0\n",
       "click_timestamp        0\n",
       "click_environment      0\n",
       "click_deviceGroup      0\n",
       "click_os               0\n",
       "click_country          0\n",
       "click_region           0\n",
       "click_referrer_type    0\n",
       "dtype: int64"
      ]
     },
     "execution_count": 14,
     "metadata": {},
     "output_type": "execute_result"
    }
   ],
   "source": [
    "# Look for missing values\n",
    "clicks_df.isnull().sum()"
   ]
  },
  {
   "cell_type": "code",
   "execution_count": 16,
   "id": "606ea61e-e2cc-424f-93c7-379a9a561e90",
   "metadata": {
    "tags": []
   },
   "outputs": [
    {
     "data": {
      "text/plain": [
       "0          False\n",
       "1          False\n",
       "2          False\n",
       "3          False\n",
       "4          False\n",
       "           ...  \n",
       "2988176    False\n",
       "2988177    False\n",
       "2988178    False\n",
       "2988179    False\n",
       "2988180    False\n",
       "Length: 2988181, dtype: bool"
      ]
     },
     "execution_count": 16,
     "metadata": {},
     "output_type": "execute_result"
    }
   ],
   "source": [
    "# Check for duplicate rows\n",
    "clicks_df.duplicated()"
   ]
  },
  {
   "cell_type": "code",
   "execution_count": 19,
   "id": "bbd81283-d659-4379-977e-2ff0b1b67cd4",
   "metadata": {
    "tags": []
   },
   "outputs": [
    {
     "data": {
      "text/plain": [
       "click_article_id\n",
       "160974    37213\n",
       "272143    28943\n",
       "336221    23851\n",
       "234698    23499\n",
       "123909    23122\n",
       "          ...  \n",
       "283269        1\n",
       "329065        1\n",
       "38473         1\n",
       "289316        1\n",
       "164517        1\n",
       "Name: count, Length: 46033, dtype: int64"
      ]
     },
     "execution_count": 19,
     "metadata": {},
     "output_type": "execute_result"
    }
   ],
   "source": [
    "## Check how many rows each article id has\n",
    "clicks_df['click_article_id'].value_counts()"
   ]
  },
  {
   "cell_type": "code",
   "execution_count": 20,
   "id": "ac4b06f0-a80b-4e94-8375-84653cf0a846",
   "metadata": {
    "tags": []
   },
   "outputs": [
    {
     "data": {
      "text/plain": [
       "user_id\n",
       "5890      1232\n",
       "73574      939\n",
       "15867      900\n",
       "80350      783\n",
       "15275      746\n",
       "          ... \n",
       "69650        2\n",
       "69640        2\n",
       "69637        2\n",
       "69625        2\n",
       "294270       2\n",
       "Name: count, Length: 322897, dtype: int64"
      ]
     },
     "execution_count": 20,
     "metadata": {},
     "output_type": "execute_result"
    }
   ],
   "source": [
    "## Check how many rows each user id has\n",
    "clicks_df['user_id'].value_counts()"
   ]
  },
  {
   "cell_type": "code",
   "execution_count": null,
   "id": "201dfa06-78e6-49e6-9e7f-52f9284b6905",
   "metadata": {},
   "outputs": [],
   "source": []
  },
  {
   "cell_type": "code",
   "execution_count": null,
   "id": "6364696f-e863-4443-9dff-96c494eba4b4",
   "metadata": {},
   "outputs": [],
   "source": []
  },
  {
   "cell_type": "code",
   "execution_count": null,
   "id": "4d068d84-a34e-4881-b92d-cc0de7e46974",
   "metadata": {},
   "outputs": [],
   "source": []
  },
  {
   "cell_type": "code",
   "execution_count": null,
   "id": "abf2aea4-48a1-4070-99da-61fb250ca755",
   "metadata": {},
   "outputs": [],
   "source": []
  },
  {
   "cell_type": "code",
   "execution_count": null,
   "id": "94c041d0-64bb-46c3-9306-72be67d594e3",
   "metadata": {},
   "outputs": [],
   "source": []
  },
  {
   "cell_type": "code",
   "execution_count": null,
   "id": "b1f620bd-f51c-451d-a42b-fd43b3eaca3a",
   "metadata": {},
   "outputs": [],
   "source": []
  },
  {
   "cell_type": "code",
   "execution_count": null,
   "id": "a82cfa3b-87e5-4253-8f1d-95ad9e5f4d6d",
   "metadata": {},
   "outputs": [],
   "source": []
  },
  {
   "cell_type": "code",
   "execution_count": null,
   "id": "a25fb589-9ac1-41f1-a374-cd8e947f9866",
   "metadata": {},
   "outputs": [],
   "source": []
  }
 ],
 "metadata": {
  "kernelspec": {
   "display_name": "Python 3 (ipykernel)",
   "language": "python",
   "name": "python3"
  },
  "language_info": {
   "codemirror_mode": {
    "name": "ipython",
    "version": 3
   },
   "file_extension": ".py",
   "mimetype": "text/x-python",
   "name": "python",
   "nbconvert_exporter": "python",
   "pygments_lexer": "ipython3",
   "version": "3.11.5"
  }
 },
 "nbformat": 4,
 "nbformat_minor": 5
}
